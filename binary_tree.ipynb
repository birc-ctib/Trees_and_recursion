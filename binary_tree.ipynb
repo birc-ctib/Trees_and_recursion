{
 "cells": [
  {
   "cell_type": "markdown",
   "id": "68baf3a1-be80-4514-a343-4b3eb4ce9fed",
   "metadata": {},
   "source": [
    "# Binary Trees and Recursion"
   ]
  },
  {
   "cell_type": "markdown",
   "id": "cfff40f9-3f0a-47a4-8526-890b48c4bff6",
   "metadata": {},
   "source": [
    "In this exercise we will look at binary trees (trees where each node has at most two children). "
   ]
  },
  {
   "cell_type": "markdown",
   "id": "1c72fa20-9c3b-4115-a1d3-f13e3147b3d2",
   "metadata": {},
   "source": [
    "Binary trees are are used to represent phylogenies and ancestral relationshiops in population genetics. "
   ]
  },
  {
   "cell_type": "markdown",
   "id": "2900b213-131f-4bbe-b1cd-f3bb0abce1af",
   "metadata": {},
   "source": [
    "Binary trees are also fundamental data structures in computer science that are used to represent hierarchical relationships between objects. In Python, binary trees can be implemented using classes and objects, providing a flexible and efficient way to store, manipulate, and search for data in a tree-like structure. This article will explore how binary trees are implemented in Python and discuss common operations such as insertion, deletion, and traversal."
   ]
  },
  {
   "cell_type": "markdown",
   "id": "2d8c3a7d-a099-4cf4-9eff-c7e050ef7a36",
   "metadata": {},
   "source": [
    "## Install graphviz\n",
    "\n",
    "If you did not do so already, you should install the packages shown below. We will use the graphviz library to generate figures of trees."
   ]
  },
  {
   "cell_type": "markdown",
   "id": "8d65b30b-1877-4b0e-8fe1-e88833798bbb",
   "metadata": {},
   "source": [
    "```\n",
    "conda activate ctib\n",
    "conda install -c conda-forge graphviz python-graphviz pydot\n",
    "```"
   ]
  },
  {
   "cell_type": "markdown",
   "id": "3ece2b63-8090-448f-9c0d-ce7f281c76e8",
   "metadata": {},
   "source": [
    "## Import libraries for use in this notebook"
   ]
  },
  {
   "cell_type": "code",
   "execution_count": null,
   "id": "98ee6324-7b71-45d9-aa89-def629bafb3d",
   "metadata": {},
   "outputs": [],
   "source": [
    "from IPython.display import display, SVG\n",
    "import graphviz\n",
    "import random\n",
    "import time\n",
    "from statistics import mean\n",
    "from matplotlib import pyplot as plt\n",
    "import pandas as pd\n",
    "import seaborn as sns\n",
    "sns.set()"
   ]
  },
  {
   "cell_type": "markdown",
   "id": "074fb257-6d82-4e6b-ad44-00e771bf6bda",
   "metadata": {},
   "source": [
    "## Class Definition for Binary Tree Node:"
   ]
  },
  {
   "cell_type": "markdown",
   "id": "383b39ac-9e26-4c01-8778-42711e8b1a40",
   "metadata": {},
   "source": [
    "In Python, binary trees can be implemented using classes, with each node in the tree represented as an object of the class. Here is an example implementation of a binary tree node:"
   ]
  },
  {
   "cell_type": "code",
   "execution_count": null,
   "id": "4b22ced3-3444-4387-acd4-dee1ddc3dd0a",
   "metadata": {},
   "outputs": [],
   "source": [
    "class TreeNode:\n",
    "    \n",
    "    def __init__(self, key):\n",
    "        self.key = key\n",
    "        self.left = None\n",
    "        self.right = None"
   ]
  },
  {
   "cell_type": "markdown",
   "id": "25375a6b-9d80-48ed-bd38-89248d0d6b5e",
   "metadata": {},
   "source": [
    "This `TreeNode` class is really just a container for three attributes:\n",
    "\n",
    "- `key`: Represents the value or key stored in the node. You kan think about it as the node id. I can also be used to hold some data associated with the node.\n",
    "- `left`: Represents the left child node of the current node. This child is also a `TreeNode`\n",
    "- `right`: Represents the right child node of the current node. This child is also a `TreeNode`\n",
    "\n",
    "All nodes in the tree, including the root and the leaves, are `TreeNodes`s, The leaves just do not have any children. I.e., both their `left` and `right` attribues are `None`."
   ]
  },
  {
   "cell_type": "markdown",
   "id": "be4bbfff-74cc-4201-a0be-eb32d7021c60",
   "metadata": {},
   "source": [
    "## Visualizing the tree\n",
    "\n",
    "A tree is really just a bipartite graph, so we can use a graph library like `graphviz` to plot the nodes and edges of the tree. When you are working with trees below, you can use this function to visualize your trees. It is a bit advanced, but it really just makes a graph object, `dot`, and then recursively adds nodes and edges using the `add_nodes_edges` function defined inside `show_tree`. Because `add_nodes_edges` is defined inside `show_tree`, it can access to the the `dot` variable and add nodes and edges to it."
   ]
  },
  {
   "cell_type": "code",
   "execution_count": null,
   "id": "d2024006-3a1b-4430-8450-8160efda5aa6",
   "metadata": {},
   "outputs": [],
   "source": [
    "def show_tree(root):\n",
    "    dot = graphviz.Digraph()\n",
    "    dot.node(str(root.key))\n",
    "\n",
    "    def add_nodes_edges(node):\n",
    "        if node.left:\n",
    "            dot.node(str(node.left.key))\n",
    "            dot.edge(str(node.key), str(node.left.key))\n",
    "            add_nodes_edges(node.left)\n",
    "        if node.right:\n",
    "            dot.node(str(node.right.key))\n",
    "            dot.edge(str(node.key), str(node.right.key))\n",
    "            add_nodes_edges(node.right)\n",
    "\n",
    "    add_nodes_edges(root)\n",
    "    return dot"
   ]
  },
  {
   "cell_type": "markdown",
   "id": "38252532-11f6-454b-bc23-31f8f5044ef3",
   "metadata": {},
   "source": [
    "## Making a tree manually\n",
    "\n",
    "Lets try to make some trees the hard way:"
   ]
  },
  {
   "cell_type": "code",
   "execution_count": null,
   "id": "1bc2fabf-fd32-4b7f-af28-efde9599a357",
   "metadata": {},
   "outputs": [],
   "source": [
    "root = TreeNode('root')\n",
    "l = TreeNode('left child')\n",
    "root.left = TreeNode('left child')\n",
    "r = TreeNode('right child')\n",
    "root.right = r\n",
    "r.left = TreeNode('grand child')\n",
    "show_tree(root)"
   ]
  },
  {
   "cell_type": "markdown",
   "id": "bd63c824-f1d8-4d93-b3f2-6dc7b8ce02eb",
   "metadata": {},
   "source": [
    "or with numbers:"
   ]
  },
  {
   "cell_type": "code",
   "execution_count": null,
   "id": "91c0d10a-7e2d-46a4-be50-0f3458e9da36",
   "metadata": {},
   "outputs": [],
   "source": [
    "root = TreeNode(4)\n",
    "l = TreeNode(2)\n",
    "root.left = l\n",
    "l.left = TreeNode(1)\n",
    "r = TreeNode(6)\n",
    "root.right = r\n",
    "r.left = TreeNode(5)\n",
    "r.right = TreeNode(7)\n",
    "show_tree(root)"
   ]
  },
  {
   "cell_type": "markdown",
   "id": "44f84120-5934-40ee-be68-cf7a013206b5",
   "metadata": {},
   "source": [
    "## Exercise: Make node tree from nested tuples"
   ]
  },
  {
   "cell_type": "markdown",
   "id": "e44dfbd6-2e96-4380-931e-6acda4090f98",
   "metadata": {},
   "source": [
    "You have already seen at the lectures that a tree can also be represented as a list of nested tuples like this: `((1, 2), (3, 4))`. This tree has four leaves clustering `1` with `2` and `3` with `4`. You can think of the root node as `((1, 2), (3, 4))`, its left and right children as `(1, 2)` and `(3, 4)` and the four leaves as `1`, `2`, `3`, and `4`.\n",
    "\n",
    "Now see if you can write a recursive function that can generate a tree of `TreeNodes` from any list of nested tuples. Once it works you should be able to produce this picture:"
   ]
  },
  {
   "cell_type": "code",
   "execution_count": null,
   "id": "95afa13b",
   "metadata": {},
   "outputs": [],
   "source": [
    "display(SVG(filename='tuple_tree.svg'))"
   ]
  },
  {
   "cell_type": "markdown",
   "id": "071f73d4-9212-4cb7-93f6-3dd80e076901",
   "metadata": {},
   "source": [
    "Fill in the recursive case in the code below:"
   ]
  },
  {
   "cell_type": "code",
   "execution_count": null,
   "id": "b0158675-b26c-421e-8a00-70902261ee77",
   "metadata": {},
   "outputs": [],
   "source": [
    "tuple_tree = ((1,2),(3,4))\n",
    "\n",
    "def from_tuples(t):\n",
    "\n",
    "    if type(t) is not tuple:\n",
    "        # if t is not a tuple, so it is a leaf:\n",
    "        return TreeNode(t)\n",
    "    # t a tuple and thus not a leaf\n",
    "\n",
    "    # fill in the rest here.....\n",
    "    \n",
    "    return tree\n",
    "\n",
    "root = from_tuples(tuple_tree)\n",
    "show_tree(root)"
   ]
  },
  {
   "cell_type": "markdown",
   "metadata": {},
   "source": [
    "The code below will allow you to save the picture to a file like the one included in the repository.:"
   ]
  },
  {
   "cell_type": "code",
   "execution_count": null,
   "id": "bfc8250e-6914-4af7-b867-d0c3685913f6",
   "metadata": {},
   "outputs": [],
   "source": [
    "dot = show_tree(root)\n",
    "open('tuple_tree.svg', 'wb').write(dot.pipe(format='svg'))\n",
    "display(SVG(filename='tuple_tree.svg'))"
   ]
  },
  {
   "cell_type": "markdown",
   "id": "92d1ce76-d2a1-43c2-9634-6275a2cb29c0",
   "metadata": {},
   "source": [
    "## Using a tree to store ordered values"
   ]
  },
  {
   "cell_type": "markdown",
   "id": "4228e667-0fd0-48f3-bf24-77c55c998a60",
   "metadata": {},
   "source": [
    "One of the first trees we made looked like the one below where each node represents an integer number. Notice how any left child of a node is always smaller than its parent and that a right child is always larger. "
   ]
  },
  {
   "cell_type": "code",
   "execution_count": null,
   "id": "7d710326-609d-4ba3-934d-3e3e82dce5c3",
   "metadata": {},
   "outputs": [],
   "source": [
    "root = TreeNode(4)\n",
    "l = TreeNode(2)\n",
    "root.left = l\n",
    "l.left = TreeNode(1)\n",
    "r = TreeNode(6)\n",
    "root.right = r\n",
    "r.left = TreeNode(5)\n",
    "r.right = TreeNode(7)\n",
    "show_tree(root)"
   ]
  },
  {
   "cell_type": "markdown",
   "id": "8697edec-af25-4266-8d71-a67994dfe4ed",
   "metadata": {},
   "source": [
    "## Exercise: insert a node\n",
    "\n",
    "If you were to insert a leaf node with value `3`, where would you put it?"
   ]
  },
  {
   "cell_type": "markdown",
   "id": "3e17936f-781c-4dd7-9ba5-fa8b12d6ae41",
   "metadata": {},
   "source": [
    "When a tree obeys this rule, it serves as a data structure that makes it easier (often a lot) to find out if it holds a particular number. A search for a number, `x`, starts at the root. If `x` is the root key, the search ends successfully, returning `True`. If `x` is smaller, the search proceeds a the left child. Otherwise, it proceeds to the right child. If there are no children, the search ends unsuccesfully, returning `False`. In the example below, if `x = 5` then we would find it by visiting nodes `4`, `6`, and `5`. If `x = 3`, we know it was not there after visiting nodes `4` and `2` and seeing that it was not a child of `2`."
   ]
  },
  {
   "cell_type": "markdown",
   "id": "25566efc-bd5a-4143-8b13-6f5aa257dbda",
   "metadata": {},
   "source": [
    "## Exercise: a recursive insert function"
   ]
  },
  {
   "attachments": {},
   "cell_type": "markdown",
   "id": "8de5c703-a3d9-4940-8eee-b2216f61f52e",
   "metadata": {},
   "source": [
    "We can write a recursive function that inserts a new node in the right place in a tree. In the function below, `root` represents the root of the binary tree, and key represents the value of the new node to be inserted. The insertion operation is recursive, and it starts from the root and proceeds down the tree based on comparing the key with the current node's key. If the key is less than the current node's key, it goes to the left subtree; otherwise, it goes to the right subtree."
   ]
  },
  {
   "cell_type": "code",
   "execution_count": null,
   "id": "847f7e1b-8897-4af5-9d1f-e5cef56871f4",
   "metadata": {},
   "outputs": [],
   "source": [
    "def insert(root, key):\n",
    "    if root is None:\n",
    "        return TreeNode(key)\n",
    "    else:\n",
    "        if key < root.key:\n",
    "            root.left = insert(root.left, key)\n",
    "        else:\n",
    "            root.right = insert(root.right, key)\n",
    "    return root"
   ]
  },
  {
   "cell_type": "markdown",
   "id": "28d9c300-8d20-48b6-8a43-231a1d781bab",
   "metadata": {},
   "source": [
    "Make sure you understand how it works. How would the call stack fill and empty if we called made it insert `3` in the tree above?"
   ]
  },
  {
   "cell_type": "markdown",
   "id": "26462f78-bfe9-4146-99f2-af93ac75bbbf",
   "metadata": {},
   "source": [
    "## Exercise: Do some inserts"
   ]
  },
  {
   "cell_type": "markdown",
   "id": "6a9615ab-cbb9-461d-a88a-3366172c18ad",
   "metadata": {},
   "source": [
    "Do some inserts and show the tree at each step to get the hang of how it works:"
   ]
  },
  {
   "cell_type": "code",
   "execution_count": null,
   "id": "a18fdc8d-d351-425a-9ad7-d3538d7a9b5f",
   "metadata": {},
   "outputs": [],
   "source": [
    "root = None\n",
    "root = insert(root, 5)\n",
    "show_tree(root)"
   ]
  },
  {
   "cell_type": "code",
   "execution_count": null,
   "id": "208aed1b-a22e-4ccc-9653-a7eb8ae1ae3d",
   "metadata": {},
   "outputs": [],
   "source": [
    "root = insert(root, 3)\n",
    "show_tree(root)"
   ]
  },
  {
   "cell_type": "code",
   "execution_count": null,
   "id": "2c2a1bf5-ddc5-44b7-b9f4-29801facfe4f",
   "metadata": {},
   "outputs": [],
   "source": [
    "root = insert(root, 11)\n",
    "show_tree(root)"
   ]
  },
  {
   "cell_type": "code",
   "execution_count": null,
   "id": "e0e8f43c-d5a8-4fcb-a60c-c3e744657402",
   "metadata": {},
   "outputs": [],
   "source": [
    "root = insert(root, 6)\n",
    "show_tree(root)"
   ]
  },
  {
   "cell_type": "code",
   "execution_count": null,
   "id": "04cc46dc-6f80-4ac0-8418-a6e1bac44792",
   "metadata": {},
   "outputs": [],
   "source": [
    "root = insert(root, 13)\n",
    "show_tree(root)"
   ]
  },
  {
   "cell_type": "code",
   "execution_count": null,
   "id": "d4249474-c657-4e7e-8622-0c2fed1f9990",
   "metadata": {},
   "outputs": [],
   "source": [
    "root = insert(root, 7)\n",
    "show_tree(root)"
   ]
  },
  {
   "cell_type": "markdown",
   "id": "04a7c614-bdb5-4e31-8c0f-2a04c0b66d2b",
   "metadata": {},
   "source": [
    "## Exercise: Tree balance"
   ]
  },
  {
   "cell_type": "markdown",
   "id": "fbdfc86d-4796-49f4-92bd-be886ced908b",
   "metadata": {},
   "source": [
    "Here is a function that automates the creation of a tree from a list of node values:"
   ]
  },
  {
   "cell_type": "code",
   "execution_count": null,
   "id": "4e32308d-0735-4685-b4be-fa45f61d26d0",
   "metadata": {},
   "outputs": [],
   "source": [
    "def build_tree(keys):\n",
    "    root = None\n",
    "    for key in keys:\n",
    "        root = insert(root, key)\n",
    "    return root"
   ]
  },
  {
   "cell_type": "markdown",
   "id": "3147ab49-d529-4879-92c6-8676685d3383",
   "metadata": {},
   "source": [
    "Use it to create trees from these lists: `[5, 3, 8, 2, 4, 7, 9]` and `[1, 2, 3, 4, 5, 6, 7]`. Notice how the tree shape is affected by the order in which numbers are added. Can you see why that is the case?\n",
    "\n",
    "How long (deep) will a tree be if it is completely unbalanced (one long string of subsequent nodes)?\n",
    "\n",
    "How long (deep) will a tree be if it is completely balanced, with the same number of left and right descendants at each node? How is that a function of the number of nodes in the tree?"
   ]
  },
  {
   "cell_type": "markdown",
   "id": "5a802c54-90d2-42a6-a28b-96c9747fe2d0",
   "metadata": {},
   "source": [
    "## A nice binary tree"
   ]
  },
  {
   "cell_type": "markdown",
   "id": "6f65bf66-14a3-4028-951c-1699d0a89911",
   "metadata": {},
   "source": [
    "In the sections below, we need to easily build a balanced example tree to work on. Here is a function that makes one:"
   ]
  },
  {
   "cell_type": "code",
   "execution_count": null,
   "id": "ec8b014f-4174-4591-9bee-f552ae3c5c83",
   "metadata": {},
   "outputs": [],
   "source": [
    "def example_tree():\n",
    "    return build_tree([5, 3, 8, 2, 4, 7, 9])"
   ]
  },
  {
   "cell_type": "markdown",
   "id": "fa66ac70-bea9-4d46-b892-e9b9980e0f4a",
   "metadata": {},
   "source": [
    "You can make one and show it like this:"
   ]
  },
  {
   "cell_type": "code",
   "execution_count": null,
   "id": "624ff8c0-7c7b-4b97-8ee9-c4e80f4b18d5",
   "metadata": {},
   "outputs": [],
   "source": [
    "root = example_tree()\n",
    "show_tree(root)"
   ]
  },
  {
   "cell_type": "markdown",
   "id": "dbc94572-8137-4fc4-8773-40eeaee705bb",
   "metadata": {},
   "source": [
    "## Exercise: Traversal Operations\n",
    "\n",
    "Traversal is the process of visiting each node in the binary tree in a specific order. Three common methods for traversing a binary tree are in-order, pre-order, and post-order. An example implementation of these traversal operations for a binary tree:"
   ]
  },
  {
   "cell_type": "markdown",
   "id": "0b974f3d-e8ed-4e08-a0c5-e0515a7533ae",
   "metadata": {},
   "source": [
    "Note how the three functions are identical except for the placemnt for the placement of the `print(root.key)` line, which represent our \"visit\" to the node."
   ]
  },
  {
   "cell_type": "code",
   "execution_count": null,
   "id": "b33cc312-2955-4800-91ea-5f7b608ed3b1",
   "metadata": {},
   "outputs": [],
   "source": [
    "def inorder(root):\n",
    "    if root is not None:\n",
    "        inorder(root.left)\n",
    "        print(root.key)\n",
    "        inorder(root.right)\n",
    "\n",
    "def preorder(root):\n",
    "    if root is not None:\n",
    "        print(root.key)\n",
    "        preorder(root.left)\n",
    "        preorder(root.right)\n",
    "\n",
    "def postorder(root):\n",
    "    if root is not None:\n",
    "        postorder(root.left)\n",
    "        postorder(root.right)\n",
    "        print(root.key)"
   ]
  },
  {
   "cell_type": "markdown",
   "id": "cc6ac1dd-2750-4be6-907a-c25b6ce3b093",
   "metadata": {},
   "source": [
    "What does the order in which nodes are visited tell you about each kind of traversal?"
   ]
  },
  {
   "cell_type": "code",
   "execution_count": null,
   "id": "11f04124-ff6f-4cbe-86d2-9157232d6064",
   "metadata": {},
   "outputs": [],
   "source": [
    "inorder(root)"
   ]
  },
  {
   "cell_type": "code",
   "execution_count": null,
   "id": "356073a8-2129-423a-8c3a-9d4c0e9b14f5",
   "metadata": {},
   "outputs": [],
   "source": [
    "preorder(root)"
   ]
  },
  {
   "cell_type": "code",
   "execution_count": null,
   "id": "a1421f68-a9c1-4bca-b0bc-adebe40e153b",
   "metadata": {},
   "outputs": [],
   "source": [
    "postorder(root)"
   ]
  },
  {
   "cell_type": "markdown",
   "id": "a0e336e4-2462-4346-b0ef-f3adeeaa527b",
   "metadata": {},
   "source": [
    "## Visualize traversals"
   ]
  },
  {
   "cell_type": "markdown",
   "id": "8d1ad108-1fc5-4899-b686-3f488884f961",
   "metadata": {},
   "source": [
    "The functions below produce graphs showing the order in which nodes are visited in each traversal:"
   ]
  },
  {
   "cell_type": "code",
   "execution_count": null,
   "id": "84e640fe-7542-4586-8a1b-78524ee1d66b",
   "metadata": {},
   "outputs": [],
   "source": [
    "def visual_inorder(root, dot):\n",
    "    if root:\n",
    "        visual_inorder(root.left, dot)\n",
    "        dot.node(str(root.key), label=str(root.key))\n",
    "        if root.left:\n",
    "            dot.edge(str(root.left.key), str(root.key), style='dotted')\n",
    "        if root.right:\n",
    "            dot.edge(str(root.key), str(root.right.key), style='dotted')\n",
    "        visual_inorder(root.right, dot)\n",
    "    return dot\n",
    "\n",
    "def visual_preorder(root, dot):\n",
    "    if root:\n",
    "        dot.node(str(root.key), label=str(root.key))\n",
    "        if root.left:\n",
    "            dot.edge(str(root.key), str(root.left.key), style='dotted')\n",
    "        if root.right:\n",
    "            dot.edge(str(root.key), str(root.right.key), style='dotted')\n",
    "        visual_preorder(root.left, dot)\n",
    "        visual_preorder(root.right, dot)\n",
    "    return dot\n",
    "\n",
    "def visual_postorder(root, dot):\n",
    "    if root:\n",
    "        visual_postorder(root.left, dot)\n",
    "        visual_postorder(root.right, dot)\n",
    "        dot.node(str(root.key), label=str(root.key))\n",
    "        if root.left:\n",
    "            dot.edge(str(root.left.key), str(root.key), style='dotted')\n",
    "        if root.right:\n",
    "            dot.edge(str(root.right.key), str(root.key), style='dotted')\n",
    "    return dot"
   ]
  },
  {
   "cell_type": "markdown",
   "id": "74d90414-e003-4013-ad72-5a9ba77d266b",
   "metadata": {},
   "source": [
    "## Inorder traversal"
   ]
  },
  {
   "cell_type": "code",
   "execution_count": null,
   "id": "c1eee061-0b55-4c9e-980c-7feb1d5ab5d4",
   "metadata": {},
   "outputs": [],
   "source": [
    "root = example_tree()\n",
    "show_tree(root)"
   ]
  },
  {
   "cell_type": "code",
   "execution_count": null,
   "id": "712fa8b7-3cfd-420f-a328-6d0e1d733a6e",
   "metadata": {},
   "outputs": [],
   "source": [
    "dot = graphviz.Digraph()\n",
    "visual_inorder(root, dot)"
   ]
  },
  {
   "cell_type": "markdown",
   "id": "1c2c7a00-a4bb-4a6f-9669-740687192c6c",
   "metadata": {},
   "source": [
    "## Preorder traversal"
   ]
  },
  {
   "cell_type": "code",
   "execution_count": null,
   "id": "2b33aa87-dbaf-421a-bf55-0ec506f26f44",
   "metadata": {},
   "outputs": [],
   "source": [
    "root = example_tree()\n",
    "show_tree(root)"
   ]
  },
  {
   "cell_type": "code",
   "execution_count": null,
   "id": "768c3581-c107-422a-a3f1-7e889f4f8160",
   "metadata": {},
   "outputs": [],
   "source": [
    "dot = graphviz.Digraph()\n",
    "visual_preorder(root, dot)"
   ]
  },
  {
   "cell_type": "markdown",
   "id": "55322a19-b0ac-4af9-9390-4b944194b263",
   "metadata": {},
   "source": [
    "## Postorder traversal"
   ]
  },
  {
   "cell_type": "code",
   "execution_count": null,
   "id": "04ddd9f2-de80-4300-b338-ef58a29bdceb",
   "metadata": {},
   "outputs": [],
   "source": [
    "root = example_tree()\n",
    "show_tree(root)"
   ]
  },
  {
   "cell_type": "code",
   "execution_count": null,
   "id": "e59480b4-6094-4cb7-aafc-482c0d99cfe3",
   "metadata": {},
   "outputs": [],
   "source": [
    "dot = graphviz.Digraph()\n",
    "visual_postorder(root, dot)"
   ]
  },
  {
   "cell_type": "markdown",
   "id": "996ced93-2c15-40d7-9ef4-6649dc79d36b",
   "metadata": {},
   "source": [
    "## Exercise: Get the number of leaves"
   ]
  },
  {
   "cell_type": "markdown",
   "id": "1c17b89e-ec6f-4dde-8452-00a6b38cc3d7",
   "metadata": {},
   "source": [
    "At the lectures, we made a function that counted the number of leaves in a tuple tree:"
   ]
  },
  {
   "cell_type": "code",
   "execution_count": null,
   "id": "34ca71d0-e5da-46b8-9fba-600db6726905",
   "metadata": {},
   "outputs": [],
   "source": [
    "def count_leaves(root):\n",
    "    if type(root) is not tuple:\n",
    "        return 1\n",
    "    return count_leaves(root[0]) + count_leaves(root[1])\n",
    "\n",
    "\n",
    "tuple_tree = ((1, 2), (5, 7))\n",
    "\n",
    "count_leaves(tuple_tree)"
   ]
  },
  {
   "cell_type": "markdown",
   "id": "7cea5af0-6b35-4f9f-b4a4-11756dfe60ef",
   "metadata": {},
   "source": [
    "Make a corresponding function that counts leaves in a tree made from `TreeNode`s:"
   ]
  },
  {
   "cell_type": "code",
   "execution_count": null,
   "id": "3b8d1a45-83a8-466a-adf6-a665f6c249d3",
   "metadata": {},
   "outputs": [],
   "source": [
    "root = example_tree()\n",
    "show_tree(root)"
   ]
  },
  {
   "cell_type": "code",
   "execution_count": null,
   "id": "fb234572-1938-463b-9580-824fc0679d69",
   "metadata": {},
   "outputs": [],
   "source": [
    "def count_leaves(root):\n",
    "    # fill in the rest...\n",
    "    return n_leaves\n",
    "\n",
    "root = example_tree()\n",
    "count_leaves(root)"
   ]
  },
  {
   "cell_type": "markdown",
   "id": "3efa8b03-de15-4506-a1e7-67638ace02fa",
   "metadata": {},
   "source": [
    "## Exercise: Make each inner node the sum of its descendants\n",
    "\n",
    "Write a recursive function that modifes the tree below so that each inner node becomes the sum of its descendants. This will make the root node 22 and its left and right children 6 and 16. \n",
    "\n",
    "What kind of traversal does your function use?"
   ]
  },
  {
   "cell_type": "code",
   "execution_count": null,
   "id": "a50d2a72-f81a-4611-9494-678ca8fcb904",
   "metadata": {},
   "outputs": [],
   "source": [
    "root = example_tree()\n",
    "show_tree(root)"
   ]
  },
  {
   "cell_type": "code",
   "execution_count": null,
   "id": "d7fdd9fb-444d-453e-a7e5-575735f6117a",
   "metadata": {},
   "outputs": [],
   "source": [
    "def descendant_sum(root):\n",
    "    # fill in the rest...\n",
    "\n",
    "descendant_sum(root)    \n",
    "show_tree(root)"
   ]
  },
  {
   "cell_type": "markdown",
   "id": "5c553e38-faf8-4edf-8470-557650beaaa3",
   "metadata": {},
   "source": [
    "## Exercise: Search an ordered tree"
   ]
  },
  {
   "cell_type": "markdown",
   "id": "fe67e869-3a7b-47b3-b576-c23994cb2b1f",
   "metadata": {},
   "source": [
    "The way we insert nodes, any left child of a node is always smaller than its parent and a right child is always larger. "
   ]
  },
  {
   "cell_type": "markdown",
   "id": "ba3ac237-d8db-456a-b053-a1434c1a0e85",
   "metadata": {},
   "source": [
    "When a tree obeys this rule, it serves as a data structure that makes it easier (often a lot) to find out if it holds a particular number. A search for a number, `x`, starts at the root. If `x` is the root key, the search ends successfully, returning `True`. If `x` is smaller, the search proceeds a the left child. Otherwise, it proceeds to the right child. If there are no children, the search ends unsuccesfully, returning `False`. In the example below, if `x = 5` then we would find it by visiting nodes 4, 6, and 5. If `x = 3`, we know it was not there after visiting nodes 4, 2, and 5."
   ]
  },
  {
   "cell_type": "code",
   "execution_count": null,
   "id": "36df0e6a-bd04-4150-a166-b668ca48ef79",
   "metadata": {},
   "outputs": [],
   "source": [
    "root = example_tree()\n",
    "show_tree(root)"
   ]
  },
  {
   "cell_type": "code",
   "execution_count": null,
   "id": "1f9efed2-16a5-40f9-86d2-de6286f6f041",
   "metadata": {},
   "outputs": [],
   "source": [
    "def tree_search(root, x):\n",
    "    # fill in the rest...\n",
    "\n",
    "tree_search(root, 1)"
   ]
  },
  {
   "cell_type": "markdown",
   "id": "45830e47",
   "metadata": {},
   "source": [
    "What is the big-O complexity of this search?"
   ]
  },
  {
   "cell_type": "markdown",
   "id": "04f853fb-1aa2-48d0-ab69-e05cea1ac4e9",
   "metadata": {},
   "source": [
    "# Exercise: Tree search and tree ballance"
   ]
  },
  {
   "cell_type": "markdown",
   "id": "e18e07bc-4bc4-4104-a44c-d589ebd2c4ae",
   "metadata": {},
   "source": [
    "Here is some code that times 1000 tree searches in trees with 1000 nodes:"
   ]
  },
  {
   "cell_type": "code",
   "execution_count": null,
   "id": "cdfbdbd7-fdb5-4931-9eac-22556af45fe6",
   "metadata": {},
   "outputs": [],
   "source": [
    "times = []\n",
    "n = 1000\n",
    "x = 9990\n",
    "keys = list(range(1, n+1))\n",
    "for _ in range(1000):\n",
    "\n",
    "    random.shuffle(keys) # shuffle key order so trees are random\n",
    "    \n",
    "    root = build_tree(keys)\n",
    "    \n",
    "    begin = time.time()\n",
    "        \n",
    "    found_it = tree_search(root, x)\n",
    "\n",
    "    elapsed = time.time() - begin\n",
    "    times.append(elapsed)\n",
    "\n",
    "plt.hist(times) ;"
   ]
  },
  {
   "cell_type": "markdown",
   "id": "92a84d45-fded-4f0d-94f0-2b3ecd369860",
   "metadata": {},
   "source": [
    "Same code as above but without shuffling the key order (be patient - it will take a couple of minutes to run):"
   ]
  },
  {
   "cell_type": "code",
   "execution_count": null,
   "id": "ace5ffca-2808-4def-aab1-e746a91e4b0c",
   "metadata": {},
   "outputs": [],
   "source": [
    "times = []\n",
    "n = 1000\n",
    "x = 9990\n",
    "keys = list(range(1, n+1))\n",
    "for _ in range(1000):\n",
    "\n",
    "    root = build_tree(keys)\n",
    "    \n",
    "    begin = time.time()\n",
    "        \n",
    "    found_it = tree_search(root, x)\n",
    "\n",
    "    elapsed = time.time() - begin\n",
    "    times.append(elapsed)\n",
    "\n",
    "plt.hist(times) ;"
   ]
  },
  {
   "cell_type": "markdown",
   "id": "f2716bd2-dc03-4919-b926-25e0f3c6f5ce",
   "metadata": {},
   "source": [
    "Same code as above but with with a magic key order. What do you think is special about it?"
   ]
  },
  {
   "cell_type": "code",
   "execution_count": null,
   "id": "59891449-1613-4a2b-8a5f-d299fd40c985",
   "metadata": {},
   "outputs": [],
   "source": [
    "l = list(range(15))\n",
    "magic_key_order = []\n",
    "def magic(l):\n",
    "    if not l: return\n",
    "    i = len(l)//2\n",
    "    magic_key_order.append(l[i])\n",
    "    magic(l[:i])\n",
    "    magic(l[i+1:])\n",
    "magic(l)\n",
    "print(magic_key_order)\n",
    "times = []\n",
    "n = 1000\n",
    "x = 9990\n",
    "keys = magic_key_order\n",
    "for _ in range(1000):\n",
    "\n",
    "    root = build_tree(keys)\n",
    "    \n",
    "    begin = time.time()\n",
    "        \n",
    "    found_it = tree_search(root, x)\n",
    "\n",
    "    elapsed = time.time() - begin\n",
    "    times.append(elapsed)\n",
    "\n",
    "plt.hist(times) ;"
   ]
  },
  {
   "cell_type": "markdown",
   "id": "08446a50-8e6b-49c3-8576-0a73e90de472",
   "metadata": {},
   "source": [
    "Compare the running times of the three experiments. Why are they different?"
   ]
  },
  {
   "cell_type": "markdown",
   "id": "b756105d",
   "metadata": {},
   "source": [
    "Keeping this difference in mind, how would you change the tree creation function to make sure that the starting tree is always balanced?"
   ]
  },
  {
   "cell_type": "markdown",
   "id": "34f095f9-1889-4a0d-9653-a23a1a98770b",
   "metadata": {},
   "source": [
    "# Exercise: Deletion"
   ]
  },
  {
   "cell_type": "markdown",
   "id": "1508012f-797b-4f1e-9f73-c6430f518ecd",
   "metadata": {},
   "source": [
    "Deletion is the process of removing a node from the binary tree. The deletion operation can be more complex than insertion, as it requires handling different cases, such as deleting a leaf node, deleting a node with one child, or deleting a node with two children. An example implementation of a deletion operation for a binary tree:"
   ]
  },
  {
   "cell_type": "code",
   "execution_count": null,
   "id": "90be76ad-8976-4a8a-aaba-7cf439a2d66e",
   "metadata": {},
   "outputs": [],
   "source": [
    "def get_min_value(root):\n",
    "    while root.left is not None:\n",
    "        root = root.left\n",
    "    return root\n",
    "\n",
    "def delete(root, key):\n",
    "    if root is None:\n",
    "        return root\n",
    "\n",
    "    if key < root.key:\n",
    "        root.left = delete(root.left, key)\n",
    "    elif key > root.key:\n",
    "        root.right = delete(root.right, key)\n",
    "    else:\n",
    "        if root.left is None:\n",
    "            temp = root.right\n",
    "            root = None\n",
    "            return temp\n",
    "        elif root.right is None:\n",
    "            temp = root.left\n",
    "            root = None\n",
    "            return temp\n",
    "\n",
    "        temp = get_min_value(root.right)\n",
    "        root.key = temp.key\n",
    "        root.right = delete(root.right, temp.key)\n",
    "    return root\n"
   ]
  },
  {
   "cell_type": "markdown",
   "id": "4f0f6365-22cb-4a5f-b0e3-c49394cf3cbb",
   "metadata": {},
   "source": [
    "Here, `root` represents the root of the binary tree, and `key` represents the value of the node to be deleted. The deletion operation is also recursive. It handles different cases, such as deleting a node with no children (leaf node), deleting a node with one child (either left or right), or deleting a node with two children. The get_min_value function is used to find the minimum value node in the right subtree of a node with two children, which is used during deletion."
   ]
  },
  {
   "cell_type": "markdown",
   "id": "8c6d2b41",
   "metadata": {},
   "source": [
    "What is the big-O time-complexity of deleting a node?"
   ]
  },
  {
   "cell_type": "code",
   "execution_count": null,
   "id": "80f3cffd-5877-4769-959a-a567be7719ee",
   "metadata": {},
   "outputs": [],
   "source": [
    "root = example_tree()\n",
    "show_tree(root)"
   ]
  },
  {
   "cell_type": "code",
   "execution_count": null,
   "id": "853e9042-7e05-40dc-b992-007930bad7d2",
   "metadata": {},
   "outputs": [],
   "source": [
    "delete(root, 6)\n",
    "show_tree(root)"
   ]
  },
  {
   "cell_type": "markdown",
   "id": "0202dbf5",
   "metadata": {},
   "source": [
    "Inserting or deleting leaves in a tree can make it unbalanced. How hard is it to make sure that the tree is always balanced after a deletion and what is the complexity?"
   ]
  },
  {
   "cell_type": "markdown",
   "id": "459517db-67f7-410d-9211-0eeb3ba55315",
   "metadata": {},
   "source": [
    "---"
   ]
  },
  {
   "cell_type": "markdown",
   "id": "94fd371f-4db9-4de7-b175-7fab61f25476",
   "metadata": {},
   "source": [
    "> The visualization of traversals is from a Medium post by Vishal Sharma, Computer Science Research Scholar at IIT Guwahati, exploring machine learning and AI in mathematics, cosmology and history.\n"
   ]
  }
 ],
 "metadata": {
  "kernelspec": {
   "display_name": "Python 3 (ipykernel)",
   "language": "python",
   "name": "python3"
  },
  "language_info": {
   "codemirror_mode": {
    "name": "ipython",
    "version": 3
   },
   "file_extension": ".py",
   "mimetype": "text/x-python",
   "name": "python",
   "nbconvert_exporter": "python",
   "pygments_lexer": "ipython3",
   "version": "3.9.18"
  }
 },
 "nbformat": 4,
 "nbformat_minor": 5
}
